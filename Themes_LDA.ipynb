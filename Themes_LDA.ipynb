{
  "nbformat": 4,
  "nbformat_minor": 0,
  "metadata": {
    "colab": {
      "provenance": []
    },
    "kernelspec": {
      "name": "python3",
      "display_name": "Python 3"
    },
    "language_info": {
      "name": "python"
    }
  },
  "cells": [
    {
      "cell_type": "code",
      "execution_count": 1,
      "metadata": {
        "colab": {
          "base_uri": "https://localhost:8080/"
        },
        "id": "KdjUAnG6ZOpT",
        "outputId": "8ff13105-6ced-49f0-ccd2-63d3e673b5bd"
      },
      "outputs": [
        {
          "output_type": "stream",
          "name": "stderr",
          "text": [
            "[nltk_data] Downloading package punkt to /root/nltk_data...\n",
            "[nltk_data]   Unzipping tokenizers/punkt.zip.\n",
            "[nltk_data] Downloading package stopwords to /root/nltk_data...\n",
            "[nltk_data]   Unzipping corpora/stopwords.zip.\n",
            "[nltk_data] Downloading package wordnet to /root/nltk_data...\n"
          ]
        },
        {
          "output_type": "stream",
          "name": "stdout",
          "text": [
            "{'\"energy\"': 0.058, '\"system\"': 0.049, '\"led\"': 0.031, '\"research\"': 0.022, '\"illuminating\"': 0.022, '\"photovoltaic\"': 0.015}\n"
          ]
        }
      ],
      "source": [
        "import pandas as pd\n",
        "import string\n",
        "import operator\n",
        "from collections import defaultdict\n",
        "from gensim import corpora\n",
        "from gensim.models import LdaModel\n",
        "from nltk.tokenize import word_tokenize\n",
        "from nltk.corpus import stopwords\n",
        "from nltk.stem import WordNetLemmatizer\n",
        "import nltk\n",
        "\n",
        "nltk.download('punkt')\n",
        "nltk.download('stopwords')\n",
        "nltk.download('wordnet')\n",
        "\n",
        "# Define a list of stopwords and punctuation\n",
        "stop_words = set(stopwords.words('english'))\n",
        "punctuation = string.punctuation\n",
        "lemmatizer = WordNetLemmatizer()\n",
        "\n",
        "def preprocess_text(text):\n",
        "    \"\"\"\n",
        "    Preprocess the text by tokenizing, removing stopwords, punctuation, and lemmatizing.\n",
        "\n",
        "    Args:\n",
        "    text (str): Input text.\n",
        "\n",
        "    Returns:\n",
        "    list: List of preprocessed words.\n",
        "    \"\"\"\n",
        "    # Tokenize the text\n",
        "    words = word_tokenize(text.lower())\n",
        "\n",
        "    # Remove stopwords, punctuation, and lemmatize\n",
        "    words = [lemmatizer.lemmatize(word) for word in words if word not in stop_words and word not in punctuation]\n",
        "\n",
        "    return words\n",
        "\n",
        "def perform_lda(text_data, num_topics=3, num_words=5, passes=15):\n",
        "    try:\n",
        "        preprocessed_data = [preprocess_text(doc) for doc in text_data]\n",
        "        dictionary = corpora.Dictionary(preprocessed_data)\n",
        "        corpus = [dictionary.doc2bow(text) for text in preprocessed_data]\n",
        "        lda_model = LdaModel(corpus, num_topics=num_topics, id2word=dictionary, passes=passes)\n",
        "        topics = lda_model.print_topics(num_words=num_words)\n",
        "        words_list = []\n",
        "        scores_list = []\n",
        "        for topic in topics:\n",
        "            topic_number, word_score_pairs = topic\n",
        "            word_score_pairs = word_score_pairs.split('+')\n",
        "            words = [pair.split('*')[1].strip() for pair in word_score_pairs]\n",
        "            scores = [float(pair.split('*')[0]) for pair in word_score_pairs]\n",
        "            words_list.append(words)\n",
        "            scores_list.append(scores)\n",
        "        return words_list, scores_list\n",
        "    except:\n",
        "        return [[\"Null\"]], [[0.5]]\n",
        "\n",
        "def get_unique_words_and_max_scores(text_data):\n",
        "    try:\n",
        "        text_data = [text_data]\n",
        "        num_topics = 2\n",
        "        num_words = 5\n",
        "        passes = 15\n",
        "        words_list, scores_list = perform_lda(text_data, num_topics, num_words, passes)\n",
        "        all_words = [word for sublist in words_list for word in sublist]\n",
        "        word_max_scores = defaultdict(float)\n",
        "        for words, scores in zip(words_list, scores_list):\n",
        "            for word, score in zip(words, scores):\n",
        "                if word not in word_max_scores or score > word_max_scores[word]:\n",
        "                    word_max_scores[word] = score\n",
        "\n",
        "        singular_word_max_scores = {}\n",
        "\n",
        "        for word, score in word_max_scores.items():\n",
        "            singular_word = lemmatizer.lemmatize(word)\n",
        "            if singular_word not in singular_word_max_scores or score > singular_word_max_scores[singular_word]:\n",
        "                singular_word_max_scores[singular_word] = score\n",
        "\n",
        "        res = dict(sorted(singular_word_max_scores.items(), key=operator.itemgetter(1), reverse=True))\n",
        "        return res\n",
        "    except:\n",
        "        return {\"Null\": 0.5}\n",
        "\n",
        "# Your new text data\n",
        "new_text_data = \"\"\"\n",
        "(D)ecreasing of energy consumption and environmentally friendly energy resources are the issues in the foreground nowadays. As the electric energy consumed for the illumination is high, long-lasting and low-consumption LED (light-emitting diode) technology gets prominent. There have been made much research regarding the use of photovoltaic systems in meeting the energy demand in housing and industry. However, there is need for more research with regards to photovoltaic systems' integration with energy efficiency systems. In this study, for the environments which have different lighting levels due to daylight factor, there has been proposed a low-cost PV (photovoltaics) based and distributed sensor smart LED illuminating system and there has been acquired 72.075% more energy saving in comparison with conventional LED illuminating system. (C) 2017 Elsevier Inc. All rights reserved\n",
        "\"\"\"\n",
        "\n",
        "# Get unique words and their maximum scores\n",
        "word_scores_dict = get_unique_words_and_max_scores(new_text_data)\n",
        "\n",
        "# Print the result\n",
        "print(word_scores_dict)\n"
      ]
    }
  ]
}